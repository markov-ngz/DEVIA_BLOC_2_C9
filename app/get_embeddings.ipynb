{
 "cells": [
  {
   "cell_type": "code",
   "execution_count": 3,
   "metadata": {},
   "outputs": [
    {
     "name": "stderr",
     "output_type": "stream",
     "text": [
      "All model checkpoint layers were used when initializing TFMarianMTModel.\n",
      "\n",
      "All the layers of TFMarianMTModel were initialized from the model checkpoint at statics/model/.\n",
      "If your task is similar to the task the model of the checkpoint was trained on, you can already use TFMarianMTModel for predictions without further training.\n",
      "c:\\Users\\Utilisateur\\anaconda3\\envs\\myenv\\Lib\\site-packages\\transformers\\models\\marian\\tokenization_marian.py:197: UserWarning: Recommended: pip install sacremoses.\n",
      "  warnings.warn(\"Recommended: pip install sacremoses.\")\n"
     ]
    }
   ],
   "source": [
    "from dotenv import load_dotenv\n",
    "import os , sys, time\n",
    "from transformers import AutoTokenizer\n",
    "from transformers import TFAutoModelForSeq2SeqLM\n",
    "load_dotenv()\n",
    "\n",
    "model=TFAutoModelForSeq2SeqLM.from_pretrained(os.getenv(\"MODEL_PATH\"))\n",
    "tokenizer=AutoTokenizer.from_pretrained(os.getenv(\"TOKEN_PATH\"))"
   ]
  },
  {
   "cell_type": "code",
   "execution_count": 8,
   "metadata": {},
   "outputs": [],
   "source": [
    "text = \"Comment allez vous en cette si belle journée ?\"\n",
    "max_length = 256\n",
    "batch = tokenizer.encode_plus(text,\n",
    "                                add_special_tokens = True,\n",
    "                                max_length = max_length,\n",
    "                                padding='max_length',\n",
    "                                return_attention_mask = True,\n",
    "                                return_token_type_ids=True,\n",
    "                                truncation=True,\n",
    "                                return_tensors=\"tf\")\n",
    "input_ids , attention_mask, token_type_ids = batch['input_ids'] , batch['attention_mask'] , batch['token_type_ids']\n",
    "\n",
    "# predicting returning\n",
    "outputs = model.predict([input_ids, attention_mask, token_type_ids], batch_size=1)\n",
    "last_hidden_states = outputs.encoder_last_hidden_state"
   ]
  },
  {
   "cell_type": "code",
   "execution_count": 10,
   "metadata": {},
   "outputs": [],
   "source": [
    "input_ids , attention_mask, token_type_ids = batch['input_ids'] , batch['attention_mask'] , batch['token_type_ids']"
   ]
  },
  {
   "cell_type": "code",
   "execution_count": 25,
   "metadata": {},
   "outputs": [
    {
     "name": "stdout",
     "output_type": "stream",
     "text": [
      "1/1 [==============================] - 1s 661ms/step\n"
     ]
    }
   ],
   "source": [
    "mode = 'HF'\n",
    "if mode=='HF' :\n",
    "    # predicting returning\n",
    "    outputs = model.predict([input_ids, attention_mask, token_type_ids], batch_size=1)\n",
    "    last_hidden_states = outputs.encoder_last_hidden_state"
   ]
  },
  {
   "cell_type": "code",
   "execution_count": null,
   "metadata": {},
   "outputs": [],
   "source": []
  }
 ],
 "metadata": {
  "kernelspec": {
   "display_name": "myenv",
   "language": "python",
   "name": "python3"
  },
  "language_info": {
   "codemirror_mode": {
    "name": "ipython",
    "version": 3
   },
   "file_extension": ".py",
   "mimetype": "text/x-python",
   "name": "python",
   "nbconvert_exporter": "python",
   "pygments_lexer": "ipython3",
   "version": "3.11.4"
  }
 },
 "nbformat": 4,
 "nbformat_minor": 2
}
